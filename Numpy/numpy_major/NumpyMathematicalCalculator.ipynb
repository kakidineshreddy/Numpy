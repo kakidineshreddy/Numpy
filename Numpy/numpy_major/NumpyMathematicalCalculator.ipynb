{
  "nbformat": 4,
  "nbformat_minor": 0,
  "metadata": {
    "colab": {
      "provenance": []
    },
    "kernelspec": {
      "name": "python3",
      "display_name": "Python 3"
    },
    "language_info": {
      "name": "python"
    }
  },
  "cells": [
    {
      "cell_type": "code",
      "source": [
        "import numpy as np\n",
        "\n",
        "while True:\n",
        "    print(\"\\n===== NumPy Mathematical Calculator =====\")\n",
        "    print(\"1. Basic Arithmetic Operations\")\n",
        "    print(\"2. Statistical Operations\")\n",
        "    print(\"3. Array Manipulation\")\n",
        "    print(\"4. Exit\")\n",
        "\n",
        "    choice = input(\"Enter your choice (1-4): \")\n",
        "\n",
        "    if choice == '1':\n",
        "        print(\"\\n--- Basic Arithmetic Operations ---\")\n",
        "        arr1 = np.array(list(map(float, input(\"Enter first array elements separated by space: \").split())))\n",
        "        arr2 = np.array(list(map(float, input(\"Enter second array elements separated by space: \").split())))\n",
        "\n",
        "        print(\"Addition :\", arr1 + arr2)\n",
        "        print(\"Subtraction :\", arr1 - arr2)\n",
        "        print(\"Multiplication :\", arr1 * arr2)\n",
        "        print(\"Division :\", arr1 / arr2)\n",
        "        print(\"Power :\", arr1 ** arr2)\n",
        "\n",
        "    elif choice == '2':\n",
        "        print(\"\\n--- Statistical Operations ---\")\n",
        "        arr = np.array(list(map(float, input(\"Enter array elements separated by space: \").split())))\n",
        "\n",
        "        print(\"Mean :\", np.mean(arr))\n",
        "        print(\"Median :\", np.median(arr))\n",
        "        print(\"Standard Deviation :\", np.std(arr))\n",
        "        print(\"Variance :\", np.var(arr))\n",
        "        print(\"Minimum :\", np.min(arr))\n",
        "        print(\"Maximum :\", np.max(arr))\n",
        "        print(\"Sum :\", np.sum(arr))\n",
        "        print(\"Product :\", np.prod(arr))\n",
        "        print(\"Shape :\", arr.shape)\n",
        "        print(\"Size :\", arr.size)\n",
        "        print(\"Data Type :\", arr.dtype)\n",
        "\n",
        "    elif choice == '3':\n",
        "        print(\"\\n--- Array Manipulation ---\")\n",
        "        arr = np.array(list(map(float, input(\"Enter array elements separated by space: \").split())))\n",
        "\n",
        "        try:\n",
        "            r = int(input(\"Enter number of rows to reshape: \"))\n",
        "            c = int(input(\"Enter number of columns to reshape: \"))\n",
        "            new_arr = arr.reshape(r, c)\n",
        "            print(\"Reshaped Array:\\n\", new_arr)\n",
        "        except:\n",
        "            print(\"Reshape not possible\")\n",
        "\n",
        "        print(\"Sorted Array :\", np.sort(arr))\n",
        "        print(\"Reverse Sorted :\", np.sort(arr)[::-1])\n",
        "        print(\"Unique Values :\", np.unique(arr))\n",
        "        print(\"First Element :\", arr[0])\n",
        "        print(\"Last Element :\", arr[-1])\n",
        "\n",
        "        mean_val = np.mean(arr)\n",
        "        print(\"Mean Value :\", mean_val)\n",
        "        print(\"Values greater than mean :\", arr[arr > mean_val])\n",
        "\n",
        "    elif choice == '4':\n",
        "        print(\"Exit\")\n",
        "        break\n",
        "\n",
        "    else:\n",
        "        print(\"Invalid choice\")\n"
      ],
      "metadata": {
        "colab": {
          "base_uri": "https://localhost:8080/"
        },
        "id": "qMzwiueMLtrc",
        "outputId": "2692c340-2f05-406a-a126-689223a2b9d1"
      },
      "execution_count": 17,
      "outputs": [
        {
          "output_type": "stream",
          "name": "stdout",
          "text": [
            "\n",
            "===== NumPy Mathematical Calculator =====\n",
            "1. Basic Arithmetic Operations\n",
            "2. Statistical Operations\n",
            "3. Array Manipulation\n",
            "4. Exit\n",
            "Enter your choice (1-4): 1\n",
            "\n",
            "--- Basic Arithmetic Operations ---\n",
            "Enter first array elements separated by space: 11 22\n",
            "Enter second array elements separated by space: 33 44\n",
            "Addition : [44. 66.]\n",
            "Subtraction : [-22. -22.]\n",
            "Multiplication : [363. 968.]\n",
            "Division : [0.33333333 0.5       ]\n",
            "Power : [2.32251544e+34 1.16572995e+59]\n",
            "\n",
            "===== NumPy Mathematical Calculator =====\n",
            "1. Basic Arithmetic Operations\n",
            "2. Statistical Operations\n",
            "3. Array Manipulation\n",
            "4. Exit\n",
            "Enter your choice (1-4): 4\n",
            "Exit\n"
          ]
        }
      ]
    }
  ]
}