{
  "cells": [
    {
      "cell_type": "code",
      "execution_count": null,
      "metadata": {
        "id": "2Ax1AhAgC_y6"
      },
      "outputs": [],
      "source": [
        "import numpy as np"
      ]
    },
    {
      "cell_type": "markdown",
      "metadata": {
        "id": "lCjyHnMlEsEn"
      },
      "source": [
        "array creation"
      ]
    },
    {
      "cell_type": "code",
      "execution_count": null,
      "metadata": {
        "colab": {
          "base_uri": "https://localhost:8080/"
        },
        "id": "kpI-NpRTDJPb",
        "outputId": "2e479d53-eefa-4144-bf6a-14d9e7180a20"
      },
      "outputs": [
        {
          "output_type": "execute_result",
          "data": {
            "text/plain": [
              "array([10, 20, 30])"
            ]
          },
          "metadata": {},
          "execution_count": 2
        }
      ],
      "source": [
        "arr=np.array([10,20,30])\n",
        "arr"
      ]
    },
    {
      "cell_type": "markdown",
      "metadata": {
        "id": "EWzgKhljEwUX"
      },
      "source": [
        "array creation with set"
      ]
    },
    {
      "cell_type": "code",
      "execution_count": null,
      "metadata": {
        "colab": {
          "base_uri": "https://localhost:8080/"
        },
        "id": "n0PAdZyVEuRy",
        "outputId": "1dfbb2d6-197d-424f-db3f-78f89d349152"
      },
      "outputs": [
        {
          "output_type": "execute_result",
          "data": {
            "text/plain": [
              "array({10, 20, 30}, dtype=object)"
            ]
          },
          "metadata": {},
          "execution_count": 3
        }
      ],
      "source": [
        "arr=np.array({10,20,30})\n",
        "arr"
      ]
    },
    {
      "cell_type": "markdown",
      "metadata": {
        "id": "Eb6DklGkEyWk"
      },
      "source": [
        "array creation with different DAtaTypes"
      ]
    },
    {
      "cell_type": "code",
      "execution_count": null,
      "metadata": {
        "colab": {
          "base_uri": "https://localhost:8080/"
        },
        "id": "BWbfoHzcE2F5",
        "outputId": "de2e746a-e0c7-40fe-dac5-15fa5914a06e"
      },
      "outputs": [
        {
          "output_type": "execute_result",
          "data": {
            "text/plain": [
              "array([(10+8j), 20, '30', {10, 20}], dtype=object)"
            ]
          },
          "metadata": {},
          "execution_count": 4
        }
      ],
      "source": [
        "arr=np.array([10+8j,20,'30',{10,20}])\n",
        "arr"
      ]
    },
    {
      "cell_type": "code",
      "execution_count": null,
      "metadata": {
        "colab": {
          "base_uri": "https://localhost:8080/"
        },
        "id": "9jOFFzcOLPpn",
        "outputId": "3c04ce77-3abd-41ce-cd4e-621c79d45229"
      },
      "outputs": [
        {
          "output_type": "execute_result",
          "data": {
            "text/plain": [
              "array([10., 20., 30.])"
            ]
          },
          "metadata": {},
          "execution_count": 5
        }
      ],
      "source": [
        "arr=np.array([10,20.,30])\n",
        "arr"
      ]
    },
    {
      "cell_type": "code",
      "execution_count": null,
      "metadata": {
        "colab": {
          "base_uri": "https://localhost:8080/"
        },
        "id": "lA1l1IX0IEXp",
        "outputId": "e8112519-438a-4839-843a-5d9ce65bb070"
      },
      "outputs": [
        {
          "output_type": "execute_result",
          "data": {
            "text/plain": [
              "array([[10, 20, 30],\n",
              "       [40, 50, 40]])"
            ]
          },
          "metadata": {},
          "execution_count": 6
        }
      ],
      "source": [
        "arr_2d=np.array([[10,20,30],\n",
        "                 [40,50,40]])\n",
        "arr_2d"
      ]
    },
    {
      "cell_type": "code",
      "execution_count": null,
      "metadata": {
        "colab": {
          "base_uri": "https://localhost:8080/"
        },
        "id": "tVVUjXyzQGG8",
        "outputId": "de32d0e1-00d2-4635-812e-448a7009f3fe"
      },
      "outputs": [
        {
          "output_type": "execute_result",
          "data": {
            "text/plain": [
              "array([[[ 10,  20,  30],\n",
              "        [ 40,  50,  60],\n",
              "        [ 23,  34,  56]],\n",
              "\n",
              "       [[100, 200, 300],\n",
              "        [400, 500, 600],\n",
              "        [ 23,  45,  67]]])"
            ]
          },
          "metadata": {},
          "execution_count": 7
        }
      ],
      "source": [
        "arr_3d=np.array([[[10,20,30],[40,50,60],[23,34,56]],\n",
        "                 [[100,200,300],[400,500,600],[23,45,67]]])\n",
        "arr_3d"
      ]
    },
    {
      "cell_type": "code",
      "execution_count": null,
      "metadata": {
        "colab": {
          "base_uri": "https://localhost:8080/"
        },
        "id": "8SL3UdO5T5L3",
        "outputId": "08efb618-f080-4ef0-f731-213763439e1f"
      },
      "outputs": [
        {
          "output_type": "execute_result",
          "data": {
            "text/plain": [
              "3"
            ]
          },
          "metadata": {},
          "execution_count": 8
        }
      ],
      "source": [
        "arr.ndim\n",
        "arr_3d.ndim"
      ]
    },
    {
      "cell_type": "code",
      "execution_count": null,
      "metadata": {
        "colab": {
          "base_uri": "https://localhost:8080/"
        },
        "id": "1Dg8zSBPUEtP",
        "outputId": "1c8d92d4-1e92-44bd-ffdf-5514f18f8159"
      },
      "outputs": [
        {
          "output_type": "execute_result",
          "data": {
            "text/plain": [
              "dtype('float64')"
            ]
          },
          "metadata": {},
          "execution_count": 9
        }
      ],
      "source": [
        "arr.dtype"
      ]
    },
    {
      "cell_type": "code",
      "execution_count": null,
      "metadata": {
        "colab": {
          "base_uri": "https://localhost:8080/"
        },
        "id": "lYfWN6cdUPTy",
        "outputId": "f546a5ff-647b-43cf-964f-5890ee889550"
      },
      "outputs": [
        {
          "output_type": "execute_result",
          "data": {
            "text/plain": [
              "array([[[ 10,  20,  30],\n",
              "        [ 40,  50,  60],\n",
              "        [ 23,  34,  56]],\n",
              "\n",
              "       [[100, 200, 300],\n",
              "        [400, 500, 600],\n",
              "        [ 23,  45,  67]]])"
            ]
          },
          "metadata": {},
          "execution_count": 10
        }
      ],
      "source": [
        "arr_3d"
      ]
    },
    {
      "cell_type": "code",
      "execution_count": null,
      "metadata": {
        "colab": {
          "base_uri": "https://localhost:8080/"
        },
        "id": "BR9Y8_QrUL9i",
        "outputId": "87086099-0415-4505-cc0e-6ebf03e3f6b4"
      },
      "outputs": [
        {
          "output_type": "execute_result",
          "data": {
            "text/plain": [
              "18"
            ]
          },
          "metadata": {},
          "execution_count": 11
        }
      ],
      "source": [
        "arr_3d.size"
      ]
    },
    {
      "cell_type": "code",
      "execution_count": null,
      "metadata": {
        "colab": {
          "base_uri": "https://localhost:8080/"
        },
        "id": "ZT9CYWBaUhvo",
        "outputId": "ff0f037a-778e-47b6-f743-0402fe6c251e"
      },
      "outputs": [
        {
          "output_type": "execute_result",
          "data": {
            "text/plain": [
              "array([[[ 10,  20,  30],\n",
              "        [ 40,  50,  60],\n",
              "        [ 23,  34,  56]],\n",
              "\n",
              "       [[100, 200, 300],\n",
              "        [400, 500, 600],\n",
              "        [ 23,  45,  67]]])"
            ]
          },
          "metadata": {},
          "execution_count": 12
        }
      ],
      "source": [
        "arr_3d"
      ]
    },
    {
      "cell_type": "code",
      "execution_count": null,
      "metadata": {
        "colab": {
          "base_uri": "https://localhost:8080/"
        },
        "id": "tBM5cfz-UaV-",
        "outputId": "38abda31-b9ed-481c-e4df-07759a4f035c"
      },
      "outputs": [
        {
          "output_type": "execute_result",
          "data": {
            "text/plain": [
              "(2, 3, 3)"
            ]
          },
          "metadata": {},
          "execution_count": 13
        }
      ],
      "source": [
        "arr.shape\n",
        "arr_2d.shape\n",
        "arr_3d.shape"
      ]
    },
    {
      "cell_type": "code",
      "execution_count": null,
      "metadata": {
        "colab": {
          "base_uri": "https://localhost:8080/"
        },
        "id": "dGdJAj4UOnp9",
        "outputId": "6e135f29-692b-4b61-e1b1-0d120a2498a2"
      },
      "outputs": [
        {
          "output_type": "execute_result",
          "data": {
            "text/plain": [
              "array([[[ 10,  20,  30],\n",
              "        [ 40,  50,  60],\n",
              "        [ 23,  34,  56]],\n",
              "\n",
              "       [[100, 200, 300],\n",
              "        [400, 500, 600],\n",
              "        [ 23,  45,  67]]])"
            ]
          },
          "metadata": {},
          "execution_count": 14
        }
      ],
      "source": [
        "arr_3d"
      ]
    },
    {
      "cell_type": "code",
      "execution_count": null,
      "metadata": {
        "colab": {
          "base_uri": "https://localhost:8080/"
        },
        "id": "-jEs3uh3O_AY",
        "outputId": "c42c3b71-6933-42f9-f2f7-6bde60876593"
      },
      "outputs": [
        {
          "output_type": "execute_result",
          "data": {
            "text/plain": [
              "(2, 3, 3)"
            ]
          },
          "metadata": {},
          "execution_count": 15
        }
      ],
      "source": [
        "arr_3d.shape"
      ]
    },
    {
      "cell_type": "code",
      "execution_count": null,
      "metadata": {
        "id": "pa5veKEuP4Nt"
      },
      "outputs": [],
      "source": [
        "arr=np.array([10,20,30,40,50,60])"
      ]
    },
    {
      "cell_type": "code",
      "execution_count": null,
      "metadata": {
        "colab": {
          "base_uri": "https://localhost:8080/"
        },
        "id": "cJBOwpUbP9bx",
        "outputId": "5a1efc2c-fdcd-492b-8263-54bced7e2e26"
      },
      "outputs": [
        {
          "output_type": "execute_result",
          "data": {
            "text/plain": [
              "array([10, 20, 30, 40, 50, 60])"
            ]
          },
          "metadata": {},
          "execution_count": 17
        }
      ],
      "source": [
        "arr"
      ]
    },
    {
      "cell_type": "code",
      "execution_count": null,
      "metadata": {
        "colab": {
          "base_uri": "https://localhost:8080/"
        },
        "id": "ifWncWX3P_0E",
        "outputId": "115331f9-48ae-48aa-b509-b8a410783838"
      },
      "outputs": [
        {
          "output_type": "execute_result",
          "data": {
            "text/plain": [
              "array([[10, 20, 30],\n",
              "       [40, 50, 60]])"
            ]
          },
          "metadata": {},
          "execution_count": 18
        }
      ],
      "source": [
        "arr.reshape(2,3)"
      ]
    },
    {
      "cell_type": "code",
      "execution_count": null,
      "metadata": {
        "colab": {
          "base_uri": "https://localhost:8080/"
        },
        "id": "KbUhFSmcQ6Xg",
        "outputId": "0e0b60a7-aefd-4cdb-e89d-19408aa53c5c"
      },
      "outputs": [
        {
          "output_type": "execute_result",
          "data": {
            "text/plain": [
              "array([[[10, 20],\n",
              "        [30, 40],\n",
              "        [50, 60]]])"
            ]
          },
          "metadata": {},
          "execution_count": 19
        }
      ],
      "source": [
        "arr.reshape(1,3,2)"
      ]
    },
    {
      "cell_type": "code",
      "execution_count": null,
      "metadata": {
        "colab": {
          "base_uri": "https://localhost:8080/"
        },
        "id": "yKDgiwFGQ-c6",
        "outputId": "c27af3b1-774d-4ce7-98ff-424d39b9a518"
      },
      "outputs": [
        {
          "output_type": "execute_result",
          "data": {
            "text/plain": [
              "array([[[10, 20, 30],\n",
              "        [40, 50, 60]]])"
            ]
          },
          "metadata": {},
          "execution_count": 20
        }
      ],
      "source": [
        "arr.reshape(1,2,3)"
      ]
    },
    {
      "cell_type": "code",
      "execution_count": null,
      "metadata": {
        "colab": {
          "base_uri": "https://localhost:8080/"
        },
        "id": "BY_UNY2ORBPQ",
        "outputId": "fc9abb6a-f95f-47d9-9cee-5ee90651273d"
      },
      "outputs": [
        {
          "output_type": "execute_result",
          "data": {
            "text/plain": [
              "array([[[10],\n",
              "        [20],\n",
              "        [30]],\n",
              "\n",
              "       [[40],\n",
              "        [50],\n",
              "        [60]]])"
            ]
          },
          "metadata": {},
          "execution_count": 21
        }
      ],
      "source": [
        "arr.reshape(2,3,1)"
      ]
    },
    {
      "cell_type": "code",
      "execution_count": null,
      "metadata": {
        "colab": {
          "base_uri": "https://localhost:8080/"
        },
        "id": "OlbjfI4VRE8d",
        "outputId": "a098e482-12d2-494f-be88-d89335df333f"
      },
      "outputs": [
        {
          "output_type": "execute_result",
          "data": {
            "text/plain": [
              "array([[[10, 20]],\n",
              "\n",
              "       [[30, 40]],\n",
              "\n",
              "       [[50, 60]]])"
            ]
          },
          "metadata": {},
          "execution_count": 22
        }
      ],
      "source": [
        "arr.reshape(3,1,2)"
      ]
    },
    {
      "cell_type": "code",
      "execution_count": null,
      "metadata": {
        "colab": {
          "base_uri": "https://localhost:8080/"
        },
        "id": "fpvUKSYpRV4e",
        "outputId": "4835d002-bdbd-41e0-f912-8b673045ca92"
      },
      "outputs": [
        {
          "output_type": "execute_result",
          "data": {
            "text/plain": [
              "array([[[ 10,  20,  30],\n",
              "        [ 40,  50,  60],\n",
              "        [ 23,  34,  56]],\n",
              "\n",
              "       [[100, 200, 300],\n",
              "        [400, 500, 600],\n",
              "        [ 23,  45,  67]]])"
            ]
          },
          "metadata": {},
          "execution_count": 23
        }
      ],
      "source": [
        "arr_3d"
      ]
    },
    {
      "cell_type": "code",
      "execution_count": null,
      "metadata": {
        "colab": {
          "base_uri": "https://localhost:8080/"
        },
        "id": "0Gu56WBuRZDC",
        "outputId": "1f1c06f3-91c7-46e6-b672-8f079cef32bd"
      },
      "outputs": [
        {
          "output_type": "execute_result",
          "data": {
            "text/plain": [
              "array([ 10,  20,  30,  40,  50,  60,  23,  34,  56, 100, 200, 300, 400,\n",
              "       500, 600,  23,  45,  67])"
            ]
          },
          "metadata": {},
          "execution_count": 24
        }
      ],
      "source": [
        "arr_3d.reshape(-1)"
      ]
    },
    {
      "cell_type": "code",
      "execution_count": null,
      "metadata": {
        "colab": {
          "base_uri": "https://localhost:8080/"
        },
        "id": "pgaUxOKTUlX2",
        "outputId": "59265118-4eb4-4212-cc3c-10454ec16b96"
      },
      "outputs": [
        {
          "output_type": "execute_result",
          "data": {
            "text/plain": [
              "array([ 10,  20,  30,  40,  50,  60,  23,  34,  56, 100, 200, 300, 400,\n",
              "       500, 600,  23,  45,  67])"
            ]
          },
          "metadata": {},
          "execution_count": 25
        }
      ],
      "source": [
        "arr_3d.flatten()"
      ]
    },
    {
      "cell_type": "code",
      "execution_count": null,
      "metadata": {
        "colab": {
          "base_uri": "https://localhost:8080/"
        },
        "id": "73AuxE7OUzm5",
        "outputId": "4964e815-6c38-4e7f-e64b-f520d923b4c0"
      },
      "outputs": [
        {
          "output_type": "execute_result",
          "data": {
            "text/plain": [
              "array([ 10,  20,  30,  40,  50,  60,  23,  34,  56, 100, 200, 300, 400,\n",
              "       500, 600,  23,  45,  67])"
            ]
          },
          "metadata": {},
          "execution_count": 26
        }
      ],
      "source": [
        "arr_3d.ravel()"
      ]
    },
    {
      "cell_type": "code",
      "execution_count": null,
      "metadata": {
        "colab": {
          "base_uri": "https://localhost:8080/"
        },
        "id": "xWV5jidKcUpt",
        "outputId": "356beb2f-068c-4a87-df8a-dc660f9830be"
      },
      "outputs": [
        {
          "output_type": "execute_result",
          "data": {
            "text/plain": [
              "array([  1,   2,   3,   4,   5,   6,   7,   8,   9,  10,  11,  12,  13,\n",
              "        14,  15,  16,  17,  18,  19,  20,  21,  22,  23,  24,  25,  26,\n",
              "        27,  28,  29,  30,  31,  32,  33,  34,  35,  36,  37,  38,  39,\n",
              "        40,  41,  42,  43,  44,  45,  46,  47,  48,  49,  50,  51,  52,\n",
              "        53,  54,  55,  56,  57,  58,  59,  60,  61,  62,  63,  64,  65,\n",
              "        66,  67,  68,  69,  70,  71,  72,  73,  74,  75,  76,  77,  78,\n",
              "        79,  80,  81,  82,  83,  84,  85,  86,  87,  88,  89,  90,  91,\n",
              "        92,  93,  94,  95,  96,  97,  98,  99, 100])"
            ]
          },
          "metadata": {},
          "execution_count": 27
        }
      ],
      "source": [
        "np.arange(1,101)"
      ]
    },
    {
      "cell_type": "code",
      "execution_count": null,
      "metadata": {
        "id": "bw1cKR5lezpX"
      },
      "outputs": [],
      "source": [
        "a=np.linspace(1,100,3000)"
      ]
    },
    {
      "cell_type": "code",
      "execution_count": null,
      "metadata": {
        "colab": {
          "base_uri": "https://localhost:8080/"
        },
        "id": "E0bLUqAdg6c3",
        "outputId": "c1502bcc-3e20-457f-fe87-2540bb77e9c5"
      },
      "outputs": [
        {
          "output_type": "execute_result",
          "data": {
            "text/plain": [
              "array([[[0, 0, 0, 0, 0, 0],\n",
              "        [0, 0, 0, 0, 0, 0],\n",
              "        [0, 0, 0, 0, 0, 0]],\n",
              "\n",
              "       [[0, 0, 0, 0, 0, 0],\n",
              "        [0, 0, 0, 0, 0, 0],\n",
              "        [0, 0, 0, 0, 0, 0]]])"
            ]
          },
          "metadata": {},
          "execution_count": 29
        }
      ],
      "source": [
        "np.zeros((2,3,6),dtype=int)"
      ]
    },
    {
      "cell_type": "code",
      "execution_count": null,
      "metadata": {
        "colab": {
          "base_uri": "https://localhost:8080/"
        },
        "id": "phhSwxIBiAQs",
        "outputId": "a50ebeaa-99cc-4e3b-8203-1e1b61349053"
      },
      "outputs": [
        {
          "output_type": "execute_result",
          "data": {
            "text/plain": [
              "array([[1, 1, 1, 1, 1, 1, 1, 1, 1],\n",
              "       [1, 1, 1, 1, 1, 1, 1, 1, 1],\n",
              "       [1, 1, 1, 1, 1, 1, 1, 1, 1],\n",
              "       [1, 1, 1, 1, 1, 1, 1, 1, 1]])"
            ]
          },
          "metadata": {},
          "execution_count": 30
        }
      ],
      "source": [
        "np.ones((4,9),dtype=int)"
      ]
    },
    {
      "cell_type": "code",
      "execution_count": null,
      "metadata": {
        "colab": {
          "base_uri": "https://localhost:8080/"
        },
        "id": "0uAnDoN3cT3E",
        "outputId": "492bf255-478d-498b-eff1-dc48befc0da7"
      },
      "outputs": [
        {
          "output_type": "execute_result",
          "data": {
            "text/plain": [
              "array([[1, 0, 0, 0, 0],\n",
              "       [0, 1, 0, 0, 0],\n",
              "       [0, 0, 1, 0, 0],\n",
              "       [0, 0, 0, 1, 0],\n",
              "       [0, 0, 0, 0, 1]])"
            ]
          },
          "metadata": {},
          "execution_count": 31
        }
      ],
      "source": [
        "np.identity(5,dtype=int)"
      ]
    },
    {
      "cell_type": "code",
      "execution_count": null,
      "metadata": {
        "colab": {
          "base_uri": "https://localhost:8080/"
        },
        "id": "1EPONvQSedxI",
        "outputId": "bc807e5d-9fab-4b8b-f838-98318b6cb403"
      },
      "outputs": [
        {
          "output_type": "execute_result",
          "data": {
            "text/plain": [
              "array([[1., 0., 0., 0., 0.],\n",
              "       [0., 1., 0., 0., 0.],\n",
              "       [0., 0., 1., 0., 0.],\n",
              "       [0., 0., 0., 1., 0.],\n",
              "       [0., 0., 0., 0., 1.]])"
            ]
          },
          "metadata": {},
          "execution_count": 32
        }
      ],
      "source": [
        "np.eye(5)"
      ]
    },
    {
      "cell_type": "code",
      "execution_count": null,
      "metadata": {
        "colab": {
          "base_uri": "https://localhost:8080/"
        },
        "id": "7QxV2Tk-ctR7",
        "outputId": "7cad3cf9-0f27-41f4-c0f0-248a0998e914"
      },
      "outputs": [
        {
          "output_type": "execute_result",
          "data": {
            "text/plain": [
              "array([[0., 0., 1.],\n",
              "       [0., 0., 0.],\n",
              "       [0., 0., 0.],\n",
              "       [0., 0., 0.],\n",
              "       [0., 0., 0.]])"
            ]
          },
          "metadata": {},
          "execution_count": 33
        }
      ],
      "source": [
        "np.eye(5,3,k=2)"
      ]
    },
    {
      "cell_type": "code",
      "execution_count": null,
      "metadata": {
        "colab": {
          "base_uri": "https://localhost:8080/"
        },
        "id": "oqBcTn3aivEh",
        "outputId": "50f19251-1796-4e0b-bb47-85e0c88d275b"
      },
      "outputs": [
        {
          "output_type": "execute_result",
          "data": {
            "text/plain": [
              "array([1., 1., 1., 1., 1.])"
            ]
          },
          "metadata": {},
          "execution_count": 34
        }
      ],
      "source": [
        "np.empty(5)"
      ]
    },
    {
      "cell_type": "code",
      "execution_count": null,
      "metadata": {
        "colab": {
          "base_uri": "https://localhost:8080/"
        },
        "id": "s1PVBq_VfH4J",
        "outputId": "f6d19b1b-2982-4713-da3a-d2a88e0293ea"
      },
      "outputs": [
        {
          "output_type": "execute_result",
          "data": {
            "text/plain": [
              "array([[7.08140580e-316, 0.00000000e+000, 6.68487724e-310,\n",
              "        6.68488514e-310, 5.78342968e-317, 5.78345340e-317,\n",
              "        6.68487115e-310],\n",
              "       [6.68487115e-310, 6.68488370e-310, 6.68487115e-310,\n",
              "        7.62201633e-316, 6.68487115e-310, 6.68488538e-310,\n",
              "        6.68487127e-310],\n",
              "       [6.68487127e-310, 6.68487115e-310, 6.68487115e-310,\n",
              "        6.68487815e-310, 6.68487126e-310, 6.68487126e-310,\n",
              "        6.68487126e-310],\n",
              "       [5.36444621e-317, 6.68488321e-310, 6.68487121e-310,\n",
              "        6.68488518e-310, 6.68487126e-310, 6.68487115e-310,\n",
              "        6.68487815e-310],\n",
              "       [6.68487115e-310, 6.68488370e-310, 6.68488513e-310,\n",
              "        6.68487115e-310, 6.68487115e-310, 6.68487118e-310,\n",
              "        2.05531309e-321]])"
            ]
          },
          "metadata": {},
          "execution_count": 35
        }
      ],
      "source": [
        "np.empty((5,7))"
      ]
    },
    {
      "cell_type": "code",
      "execution_count": null,
      "metadata": {
        "colab": {
          "base_uri": "https://localhost:8080/"
        },
        "id": "Kro2i8rQgqfw",
        "outputId": "bb7fe345-c1d3-480c-c32e-45c9e948e467"
      },
      "outputs": [
        {
          "output_type": "execute_result",
          "data": {
            "text/plain": [
              "array([5, 5, 5, 5, 5, 5, 5, 5, 5, 5])"
            ]
          },
          "metadata": {},
          "execution_count": 36
        }
      ],
      "source": [
        "np.full(10,5)"
      ]
    },
    {
      "cell_type": "markdown",
      "metadata": {
        "id": "ORL9F2sFqv4f"
      },
      "source": [
        "array manipulation\n"
      ]
    },
    {
      "cell_type": "code",
      "execution_count": null,
      "metadata": {
        "colab": {
          "base_uri": "https://localhost:8080/"
        },
        "id": "pjc0uSjvq5DO",
        "outputId": "11031304-3306-4da1-e3b6-2f521387715a"
      },
      "outputs": [
        {
          "output_type": "execute_result",
          "data": {
            "text/plain": [
              "array([10, 20, 30, 40, 50, 60])"
            ]
          },
          "metadata": {},
          "execution_count": 37
        }
      ],
      "source": [
        "arr"
      ]
    },
    {
      "cell_type": "code",
      "execution_count": null,
      "metadata": {
        "colab": {
          "base_uri": "https://localhost:8080/"
        },
        "id": "vqWvQaxCrATJ",
        "outputId": "a5123c40-3a7c-4010-d8f8-d11e5e8c1028"
      },
      "outputs": [
        {
          "output_type": "execute_result",
          "data": {
            "text/plain": [
              "array([10., 20., 30., 40., 50., 60.])"
            ]
          },
          "metadata": {},
          "execution_count": 38
        }
      ],
      "source": [
        "arr.astype(dtype=float)"
      ]
    },
    {
      "cell_type": "code",
      "execution_count": null,
      "metadata": {
        "colab": {
          "base_uri": "https://localhost:8080/"
        },
        "id": "oUWgtKxMr9yR",
        "outputId": "53cb9398-6679-4cde-beb4-24301e22d8d7"
      },
      "outputs": [
        {
          "output_type": "stream",
          "name": "stdout",
          "text": [
            "[ 1  2  3  4  5  6  7  8  9 10]\n",
            "[11 12 13 14 15 16 17 18 19 20]\n"
          ]
        }
      ],
      "source": [
        "arr=np.arange(1,11)\n",
        "arr2=np.arange(11,21)\n",
        "print(arr)\n",
        "print(arr2)"
      ]
    },
    {
      "cell_type": "code",
      "execution_count": null,
      "metadata": {
        "colab": {
          "base_uri": "https://localhost:8080/"
        },
        "id": "kioOHP8csIkQ",
        "outputId": "95f4e240-ae07-415f-b8cb-3d307d015b06"
      },
      "outputs": [
        {
          "output_type": "execute_result",
          "data": {
            "text/plain": [
              "array([ 1,  2,  3,  4,  5,  6,  7,  8,  9, 10, 11, 12, 13, 14, 15, 16, 17,\n",
              "       18, 19, 20])"
            ]
          },
          "metadata": {},
          "execution_count": 40
        }
      ],
      "source": [
        "new_arr=np.concatenate((arr,arr2))\n",
        "new_arr"
      ]
    },
    {
      "cell_type": "code",
      "source": [
        "arr=np.arange(1,5)"
      ],
      "metadata": {
        "id": "sunrx_8eiANi"
      },
      "execution_count": null,
      "outputs": []
    },
    {
      "cell_type": "code",
      "source": [
        "arr"
      ],
      "metadata": {
        "colab": {
          "base_uri": "https://localhost:8080/"
        },
        "id": "0wWynjGyiIqk",
        "outputId": "36895a13-5f78-48af-e0a9-30297a9f5a22"
      },
      "execution_count": null,
      "outputs": [
        {
          "output_type": "execute_result",
          "data": {
            "text/plain": [
              "array([1, 2, 3, 4])"
            ]
          },
          "metadata": {},
          "execution_count": 42
        }
      ]
    },
    {
      "cell_type": "code",
      "source": [
        "np.repeat(arr,5)"
      ],
      "metadata": {
        "colab": {
          "base_uri": "https://localhost:8080/"
        },
        "id": "c7FOfZD-h-SF",
        "outputId": "42542c35-eb44-448d-c294-505e14d186b4"
      },
      "execution_count": null,
      "outputs": [
        {
          "output_type": "execute_result",
          "data": {
            "text/plain": [
              "array([1, 1, 1, 1, 1, 2, 2, 2, 2, 2, 3, 3, 3, 3, 3, 4, 4, 4, 4, 4])"
            ]
          },
          "metadata": {},
          "execution_count": 43
        }
      ]
    },
    {
      "cell_type": "code",
      "source": [
        "arr1=np.full((5,5),(1,2,3,4,5))\n",
        "arr1"
      ],
      "metadata": {
        "colab": {
          "base_uri": "https://localhost:8080/"
        },
        "id": "tEYa3R3kjKNX",
        "outputId": "b9a17413-5681-4e31-af6d-89d3d921657a"
      },
      "execution_count": null,
      "outputs": [
        {
          "output_type": "execute_result",
          "data": {
            "text/plain": [
              "array([[1, 2, 3, 4, 5],\n",
              "       [1, 2, 3, 4, 5],\n",
              "       [1, 2, 3, 4, 5],\n",
              "       [1, 2, 3, 4, 5],\n",
              "       [1, 2, 3, 4, 5]])"
            ]
          },
          "metadata": {},
          "execution_count": 44
        }
      ]
    },
    {
      "cell_type": "code",
      "source": [
        "a=arr1.T\n",
        "a"
      ],
      "metadata": {
        "colab": {
          "base_uri": "https://localhost:8080/"
        },
        "id": "VK02sTCTkDDX",
        "outputId": "93a6a41f-f8c0-4e6d-fc67-9acbdc813881"
      },
      "execution_count": null,
      "outputs": [
        {
          "output_type": "execute_result",
          "data": {
            "text/plain": [
              "array([[1, 1, 1, 1, 1],\n",
              "       [2, 2, 2, 2, 2],\n",
              "       [3, 3, 3, 3, 3],\n",
              "       [4, 4, 4, 4, 4],\n",
              "       [5, 5, 5, 5, 5]])"
            ]
          },
          "metadata": {},
          "execution_count": 45
        }
      ]
    },
    {
      "cell_type": "code",
      "source": [
        "arr1"
      ],
      "metadata": {
        "colab": {
          "base_uri": "https://localhost:8080/"
        },
        "id": "kqP7-7XTmT47",
        "outputId": "fd7b4a9d-c3f1-457a-9189-f4fed2a8b694"
      },
      "execution_count": null,
      "outputs": [
        {
          "output_type": "execute_result",
          "data": {
            "text/plain": [
              "array([[1, 2, 3, 4, 5],\n",
              "       [1, 2, 3, 4, 5],\n",
              "       [1, 2, 3, 4, 5],\n",
              "       [1, 2, 3, 4, 5],\n",
              "       [1, 2, 3, 4, 5]])"
            ]
          },
          "metadata": {},
          "execution_count": 46
        }
      ]
    },
    {
      "cell_type": "code",
      "source": [
        "np.flip(arr1)"
      ],
      "metadata": {
        "colab": {
          "base_uri": "https://localhost:8080/"
        },
        "id": "9k13MSY0ltCi",
        "outputId": "e07a5cc7-80af-413c-e906-1ed80ceb2b9e"
      },
      "execution_count": null,
      "outputs": [
        {
          "output_type": "execute_result",
          "data": {
            "text/plain": [
              "array([[5, 4, 3, 2, 1],\n",
              "       [5, 4, 3, 2, 1],\n",
              "       [5, 4, 3, 2, 1],\n",
              "       [5, 4, 3, 2, 1],\n",
              "       [5, 4, 3, 2, 1]])"
            ]
          },
          "metadata": {},
          "execution_count": 47
        }
      ]
    },
    {
      "cell_type": "code",
      "source": [
        "arr=np.array([12,34,21,36,78,32,12,21,67,89])\n",
        "arr"
      ],
      "metadata": {
        "colab": {
          "base_uri": "https://localhost:8080/"
        },
        "id": "3COEpIzfpsGG",
        "outputId": "285f2b61-4e94-4357-8c6d-d07492d9575d"
      },
      "execution_count": null,
      "outputs": [
        {
          "output_type": "execute_result",
          "data": {
            "text/plain": [
              "array([12, 34, 21, 36, 78, 32, 12, 21, 67, 89])"
            ]
          },
          "metadata": {},
          "execution_count": 48
        }
      ]
    },
    {
      "cell_type": "code",
      "source": [
        "np.unique(arr)"
      ],
      "metadata": {
        "colab": {
          "base_uri": "https://localhost:8080/"
        },
        "id": "XjLGUvvhp7Vf",
        "outputId": "d3b6bbba-dbd0-4be4-f352-30b8bf41d11f"
      },
      "execution_count": null,
      "outputs": [
        {
          "output_type": "execute_result",
          "data": {
            "text/plain": [
              "array([12, 21, 32, 34, 36, 67, 78, 89])"
            ]
          },
          "metadata": {},
          "execution_count": 49
        }
      ]
    },
    {
      "cell_type": "code",
      "source": [
        "arr"
      ],
      "metadata": {
        "colab": {
          "base_uri": "https://localhost:8080/"
        },
        "id": "FTIC9bs9wQ7l",
        "outputId": "6279eecf-a0b7-45f2-cfe6-e147da550f62"
      },
      "execution_count": null,
      "outputs": [
        {
          "output_type": "execute_result",
          "data": {
            "text/plain": [
              "array([12, 34, 21, 36, 78, 32, 12, 21, 67, 89])"
            ]
          },
          "metadata": {},
          "execution_count": 50
        }
      ]
    },
    {
      "cell_type": "code",
      "source": [
        "a=np.split(arr,5)\n",
        "a"
      ],
      "metadata": {
        "colab": {
          "base_uri": "https://localhost:8080/"
        },
        "id": "LCL3_Ns3wUFq",
        "outputId": "09cf3371-ec63-4faf-fc42-88791af76321"
      },
      "execution_count": null,
      "outputs": [
        {
          "output_type": "execute_result",
          "data": {
            "text/plain": [
              "[array([12, 34]),\n",
              " array([21, 36]),\n",
              " array([78, 32]),\n",
              " array([12, 21]),\n",
              " array([67, 89])]"
            ]
          },
          "metadata": {},
          "execution_count": 51
        }
      ]
    },
    {
      "cell_type": "code",
      "source": [
        "arr=np.array([1,2,3])\n",
        "arr1=np.array([4,5,6])\n",
        "arr2=np.array([4,5,689])"
      ],
      "metadata": {
        "id": "tbm3nS0fx86Y"
      },
      "execution_count": null,
      "outputs": []
    },
    {
      "cell_type": "code",
      "source": [
        "np.vstack((arr,arr1,arr2))"
      ],
      "metadata": {
        "colab": {
          "base_uri": "https://localhost:8080/"
        },
        "id": "sB3Gqr2iySGp",
        "outputId": "a234628b-8200-458b-ce06-34493f4a592d"
      },
      "execution_count": null,
      "outputs": [
        {
          "output_type": "execute_result",
          "data": {
            "text/plain": [
              "array([[  1,   2,   3],\n",
              "       [  4,   5,   6],\n",
              "       [  4,   5, 689]])"
            ]
          },
          "metadata": {},
          "execution_count": 53
        }
      ]
    },
    {
      "cell_type": "code",
      "source": [
        "a=np.hstack((arr,arr1,arr2))"
      ],
      "metadata": {
        "id": "pOPB5-Sd0EuZ"
      },
      "execution_count": null,
      "outputs": []
    },
    {
      "cell_type": "code",
      "source": [
        "a"
      ],
      "metadata": {
        "colab": {
          "base_uri": "https://localhost:8080/"
        },
        "id": "rCLczPJamj1J",
        "outputId": "61c2e128-026f-4bd8-afd5-47b30dc9cd7f"
      },
      "execution_count": null,
      "outputs": [
        {
          "output_type": "execute_result",
          "data": {
            "text/plain": [
              "array([  1,   2,   3,   4,   5,   6,   4,   5, 689])"
            ]
          },
          "metadata": {},
          "execution_count": 55
        }
      ]
    },
    {
      "cell_type": "code",
      "source": [
        "b=np.delete(a,4)"
      ],
      "metadata": {
        "id": "IoDXKYYboj0G"
      },
      "execution_count": null,
      "outputs": []
    },
    {
      "cell_type": "code",
      "source": [
        "a"
      ],
      "metadata": {
        "colab": {
          "base_uri": "https://localhost:8080/"
        },
        "id": "g-Ati1Xtormg",
        "outputId": "e7dda6ee-8ca3-408f-c5c3-55c292fd07c8"
      },
      "execution_count": null,
      "outputs": [
        {
          "output_type": "execute_result",
          "data": {
            "text/plain": [
              "array([  1,   2,   3,   4,   5,   6,   4,   5, 689])"
            ]
          },
          "metadata": {},
          "execution_count": 57
        }
      ]
    },
    {
      "cell_type": "code",
      "source": [
        "a=[10,20,30]\n",
        "b=a\n",
        "b[2]=300\n",
        "print(a)\n",
        "print(b)"
      ],
      "metadata": {
        "colab": {
          "base_uri": "https://localhost:8080/"
        },
        "id": "p6JHVU_9td8Z",
        "outputId": "2ee28506-e943-42b9-e7fc-6541a98ed349"
      },
      "execution_count": null,
      "outputs": [
        {
          "output_type": "stream",
          "name": "stdout",
          "text": [
            "[10, 20, 300]\n",
            "[10, 20, 300]\n"
          ]
        }
      ]
    },
    {
      "cell_type": "code",
      "source": [
        "a=[10,20,30]\n",
        "b=a.copy()\n",
        "b[2]=300\n",
        "print(a)\n",
        "print(b)"
      ],
      "metadata": {
        "colab": {
          "base_uri": "https://localhost:8080/"
        },
        "id": "cHVw10FDuEL_",
        "outputId": "f372a799-edfe-4ca6-f90f-2c9b91b8d3e5"
      },
      "execution_count": null,
      "outputs": [
        {
          "output_type": "stream",
          "name": "stdout",
          "text": [
            "[10, 20, 30]\n",
            "[10, 20, 300]\n"
          ]
        }
      ]
    },
    {
      "cell_type": "code",
      "source": [
        "import copy\n",
        "a=[10,20,30,40,[10,20,30]]\n",
        "b=copy.deepcopy(a)\n",
        "b[2]=300\n",
        "b[-1][-1]=300\n",
        "print(a)\n",
        "print(b)"
      ],
      "metadata": {
        "colab": {
          "base_uri": "https://localhost:8080/"
        },
        "id": "SW9OSC-AqDz0",
        "outputId": "1cbfa3b7-2427-4ee6-8419-1005f80c5ee8"
      },
      "execution_count": null,
      "outputs": [
        {
          "output_type": "stream",
          "name": "stdout",
          "text": [
            "[10, 20, 30, 40, [10, 20, 30]]\n",
            "[10, 20, 300, 40, [10, 20, 300]]\n"
          ]
        }
      ]
    },
    {
      "cell_type": "code",
      "source": [
        "arr=np.arange(0,21,2)\n",
        "arr"
      ],
      "metadata": {
        "colab": {
          "base_uri": "https://localhost:8080/"
        },
        "id": "iOv9355gwUrb",
        "outputId": "33452652-17c9-4a57-8e55-78bbdaa36ce3"
      },
      "execution_count": null,
      "outputs": [
        {
          "output_type": "execute_result",
          "data": {
            "text/plain": [
              "array([ 0,  2,  4,  6,  8, 10, 12, 14, 16, 18, 20])"
            ]
          },
          "metadata": {},
          "execution_count": 61
        }
      ]
    },
    {
      "cell_type": "code",
      "source": [
        "c=arr.copy()"
      ],
      "metadata": {
        "id": "eK20pN-Xwxk5"
      },
      "execution_count": null,
      "outputs": []
    },
    {
      "cell_type": "code",
      "source": [
        "id(c)"
      ],
      "metadata": {
        "colab": {
          "base_uri": "https://localhost:8080/"
        },
        "id": "5rU2nxWxw82G",
        "outputId": "a53acf03-472e-4bd8-e32d-ddf798277071"
      },
      "execution_count": null,
      "outputs": [
        {
          "output_type": "execute_result",
          "data": {
            "text/plain": [
              "135303294348496"
            ]
          },
          "metadata": {},
          "execution_count": 63
        }
      ]
    },
    {
      "cell_type": "code",
      "source": [
        "c[3]=40"
      ],
      "metadata": {
        "id": "YWUd0WcVxJEU"
      },
      "execution_count": null,
      "outputs": []
    },
    {
      "cell_type": "code",
      "source": [
        "c"
      ],
      "metadata": {
        "colab": {
          "base_uri": "https://localhost:8080/"
        },
        "id": "whxRsT-mx09S",
        "outputId": "79627464-a41e-4fbd-fc16-e3493b8f581b"
      },
      "execution_count": null,
      "outputs": [
        {
          "output_type": "execute_result",
          "data": {
            "text/plain": [
              "array([ 0,  2,  4, 40,  8, 10, 12, 14, 16, 18, 20])"
            ]
          },
          "metadata": {},
          "execution_count": 65
        }
      ]
    },
    {
      "cell_type": "code",
      "source": [
        "arr"
      ],
      "metadata": {
        "colab": {
          "base_uri": "https://localhost:8080/"
        },
        "id": "UJoTsiiyx3Xu",
        "outputId": "1ff6189a-c4bc-4a94-b45a-6490263e6973"
      },
      "execution_count": null,
      "outputs": [
        {
          "output_type": "execute_result",
          "data": {
            "text/plain": [
              "array([ 0,  2,  4,  6,  8, 10, 12, 14, 16, 18, 20])"
            ]
          },
          "metadata": {},
          "execution_count": 66
        }
      ]
    },
    {
      "cell_type": "code",
      "source": [
        "arr_2d=np.arange(0,20).reshape(5,4)"
      ],
      "metadata": {
        "id": "lFabDGHDx8ZT"
      },
      "execution_count": null,
      "outputs": []
    },
    {
      "cell_type": "code",
      "source": [
        "arr_2d"
      ],
      "metadata": {
        "colab": {
          "base_uri": "https://localhost:8080/"
        },
        "id": "DyEN6JbDyOhR",
        "outputId": "a51c5f46-c1d6-4f47-b483-90dfb61be405"
      },
      "execution_count": null,
      "outputs": [
        {
          "output_type": "execute_result",
          "data": {
            "text/plain": [
              "array([[ 0,  1,  2,  3],\n",
              "       [ 4,  5,  6,  7],\n",
              "       [ 8,  9, 10, 11],\n",
              "       [12, 13, 14, 15],\n",
              "       [16, 17, 18, 19]])"
            ]
          },
          "metadata": {},
          "execution_count": 68
        }
      ]
    },
    {
      "cell_type": "code",
      "source": [
        "d=arr_2d.copy()"
      ],
      "metadata": {
        "id": "3ix23jknyQe_"
      },
      "execution_count": null,
      "outputs": []
    },
    {
      "cell_type": "code",
      "source": [
        "d[4][2]=800"
      ],
      "metadata": {
        "id": "uycsNa1jyZGB"
      },
      "execution_count": null,
      "outputs": []
    },
    {
      "cell_type": "code",
      "source": [
        "d"
      ],
      "metadata": {
        "colab": {
          "base_uri": "https://localhost:8080/"
        },
        "id": "WkngQ88EytIm",
        "outputId": "710ba2c7-1a57-4800-a6ff-e01813f31d41"
      },
      "execution_count": null,
      "outputs": [
        {
          "output_type": "execute_result",
          "data": {
            "text/plain": [
              "array([[  0,   1,   2,   3],\n",
              "       [  4,   5,   6,   7],\n",
              "       [  8,   9,  10,  11],\n",
              "       [ 12,  13,  14,  15],\n",
              "       [ 16,  17, 800,  19]])"
            ]
          },
          "metadata": {},
          "execution_count": 71
        }
      ]
    },
    {
      "cell_type": "code",
      "source": [
        "arr_2d"
      ],
      "metadata": {
        "colab": {
          "base_uri": "https://localhost:8080/"
        },
        "id": "UD5_8_fJyuO9",
        "outputId": "e232c9ba-fc1b-4825-daf6-3be593eb5677"
      },
      "execution_count": null,
      "outputs": [
        {
          "output_type": "execute_result",
          "data": {
            "text/plain": [
              "array([[ 0,  1,  2,  3],\n",
              "       [ 4,  5,  6,  7],\n",
              "       [ 8,  9, 10, 11],\n",
              "       [12, 13, 14, 15],\n",
              "       [16, 17, 18, 19]])"
            ]
          },
          "metadata": {},
          "execution_count": 72
        }
      ]
    },
    {
      "cell_type": "code",
      "source": [
        "arr"
      ],
      "metadata": {
        "colab": {
          "base_uri": "https://localhost:8080/"
        },
        "id": "BXJJGC2-y-0f",
        "outputId": "19ed2b5a-7b27-4d15-aedd-370554139e44"
      },
      "execution_count": null,
      "outputs": [
        {
          "output_type": "execute_result",
          "data": {
            "text/plain": [
              "array([ 0,  2,  4,  6,  8, 10, 12, 14, 16, 18, 20])"
            ]
          },
          "metadata": {},
          "execution_count": 73
        }
      ]
    },
    {
      "cell_type": "code",
      "source": [
        "a=arr.view()"
      ],
      "metadata": {
        "id": "FGaikwmXzA_D"
      },
      "execution_count": null,
      "outputs": []
    },
    {
      "cell_type": "code",
      "source": [
        "a[3]=300"
      ],
      "metadata": {
        "id": "dNoSNYjfzE9c"
      },
      "execution_count": null,
      "outputs": []
    },
    {
      "cell_type": "code",
      "source": [
        "arr"
      ],
      "metadata": {
        "colab": {
          "base_uri": "https://localhost:8080/"
        },
        "id": "pWGUy37gzHG8",
        "outputId": "86f05607-72b9-4591-eb22-21a03cf9db1e"
      },
      "execution_count": null,
      "outputs": [
        {
          "output_type": "execute_result",
          "data": {
            "text/plain": [
              "array([  0,   2,   4, 300,   8,  10,  12,  14,  16,  18,  20])"
            ]
          },
          "metadata": {},
          "execution_count": 76
        }
      ]
    },
    {
      "cell_type": "code",
      "source": [
        "a"
      ],
      "metadata": {
        "colab": {
          "base_uri": "https://localhost:8080/"
        },
        "id": "uoJ3bpgRzISL",
        "outputId": "f645a0fd-028e-44e5-e9bf-9b6c5e47a8e5"
      },
      "execution_count": null,
      "outputs": [
        {
          "output_type": "execute_result",
          "data": {
            "text/plain": [
              "array([  0,   2,   4, 300,   8,  10,  12,  14,  16,  18,  20])"
            ]
          },
          "metadata": {},
          "execution_count": 77
        }
      ]
    },
    {
      "cell_type": "code",
      "source": [
        "e=arr_2d.view()"
      ],
      "metadata": {
        "id": "FyIedHCazMJA"
      },
      "execution_count": null,
      "outputs": []
    },
    {
      "cell_type": "code",
      "source": [
        "e[4][2]=340"
      ],
      "metadata": {
        "id": "0Z1AR51YzQs4"
      },
      "execution_count": null,
      "outputs": []
    },
    {
      "cell_type": "code",
      "source": [
        "e"
      ],
      "metadata": {
        "colab": {
          "base_uri": "https://localhost:8080/"
        },
        "id": "4FTL9zMazW_9",
        "outputId": "b034de0a-cd47-49fb-c86f-827c925925db"
      },
      "execution_count": null,
      "outputs": [
        {
          "output_type": "execute_result",
          "data": {
            "text/plain": [
              "array([[  0,   1,   2,   3],\n",
              "       [  4,   5,   6,   7],\n",
              "       [  8,   9,  10,  11],\n",
              "       [ 12,  13,  14,  15],\n",
              "       [ 16,  17, 340,  19]])"
            ]
          },
          "metadata": {},
          "execution_count": 80
        }
      ]
    },
    {
      "cell_type": "code",
      "source": [
        "arr_2d"
      ],
      "metadata": {
        "colab": {
          "base_uri": "https://localhost:8080/"
        },
        "id": "7L_q4GJ4zZMk",
        "outputId": "9f697a23-20ee-438b-ec7f-197bf8b88408"
      },
      "execution_count": null,
      "outputs": [
        {
          "output_type": "execute_result",
          "data": {
            "text/plain": [
              "array([[  0,   1,   2,   3],\n",
              "       [  4,   5,   6,   7],\n",
              "       [  8,   9,  10,  11],\n",
              "       [ 12,  13,  14,  15],\n",
              "       [ 16,  17, 340,  19]])"
            ]
          },
          "metadata": {},
          "execution_count": 81
        }
      ]
    },
    {
      "cell_type": "markdown",
      "source": [
        "### 🧩 **1\\. Data Entry System**\n",
        "\n",
        "A data analyst needs to store the ages of employees: 25, 28, 32, 45, and 50.She wants to create a structure that supports mathematical operations like finding the mean or sum easily.\n",
        "\n",
        "🔹 Create a suitable structure and display its number of dimensions and total elements.\n"
      ],
      "metadata": {
        "id": "GmS_x9Dd2Nwh"
      }
    },
    {
      "cell_type": "code",
      "source": [
        "ages=np.array([25,28,32,45,50])\n",
        "print(ages)\n",
        "print(ages.ndim)\n",
        "print(ages.size)"
      ],
      "metadata": {
        "colab": {
          "base_uri": "https://localhost:8080/"
        },
        "id": "yV_fleMi-Wn-",
        "outputId": "8bb3e4d0-a7ca-48b9-d4ec-cbb831c095d2"
      },
      "execution_count": null,
      "outputs": [
        {
          "output_type": "stream",
          "name": "stdout",
          "text": [
            "[25 28 32 45 50]\n",
            "1\n",
            "5\n"
          ]
        }
      ]
    },
    {
      "cell_type": "markdown",
      "source": [
        "### 🔢 **2\\. Temperature Readings**\n",
        "\n",
        "You are asked to record hourly temperature readings from **6 AM to 6 PM (12 readings)**, starting from 6 and increasing by 1 hour each time.\n",
        "\n",
        "🔹 Create an array that represents these time intervals.\n",
        "\n",
        "🔹 Reshape it into a 3×4 matrix to represent readings of **3 days**.\n",
        "\n",
        "🔹 Display its shape and transpose it."
      ],
      "metadata": {
        "id": "cRlXk3962j_o"
      }
    },
    {
      "cell_type": "code",
      "source": [
        "time=np.arange(6,18)\n",
        "reshaped_time=time.reshape(3,4)"
      ],
      "metadata": {
        "id": "C9OfN0v1-3Zq"
      },
      "execution_count": null,
      "outputs": []
    },
    {
      "cell_type": "code",
      "source": [
        "reshaped_time.shape"
      ],
      "metadata": {
        "colab": {
          "base_uri": "https://localhost:8080/"
        },
        "id": "T0qtI4EnA7Fr",
        "outputId": "896e3b8e-2702-4c80-845e-137e2f8845fe"
      },
      "execution_count": null,
      "outputs": [
        {
          "output_type": "execute_result",
          "data": {
            "text/plain": [
              "(3, 4)"
            ]
          },
          "metadata": {},
          "execution_count": 84
        }
      ]
    },
    {
      "cell_type": "code",
      "source": [
        "reshaped_time.T"
      ],
      "metadata": {
        "colab": {
          "base_uri": "https://localhost:8080/"
        },
        "id": "D_Q4J6eGBHFy",
        "outputId": "eac1d64a-80aa-4ca2-a5d0-6af521c572c1"
      },
      "execution_count": null,
      "outputs": [
        {
          "output_type": "execute_result",
          "data": {
            "text/plain": [
              "array([[ 6, 10, 14],\n",
              "       [ 7, 11, 15],\n",
              "       [ 8, 12, 16],\n",
              "       [ 9, 13, 17]])"
            ]
          },
          "metadata": {},
          "execution_count": 85
        }
      ]
    },
    {
      "cell_type": "markdown",
      "source": [
        "### 🧮 **3\\. Image Matrix Setup**\n",
        "\n",
        "A machine learning engineer is initializing a 5×5 grayscale image matrix where each pixel starts with value 0.Later, she wants to change the center pixel’s value to 255.\n",
        "\n",
        "🔹 Create and display the initial matrix.\n",
        "\n",
        "🔹 Modify the center pixel value.\n",
        "\n",
        "\n",
        "\n"
      ],
      "metadata": {
        "id": "wXku0fn82rJA"
      }
    },
    {
      "cell_type": "code",
      "source": [
        "img_mtx=np.zeros((5,5))\n",
        "img_mtx"
      ],
      "metadata": {
        "colab": {
          "base_uri": "https://localhost:8080/"
        },
        "id": "8OxIS5y7IAaT",
        "outputId": "92812902-337c-4834-bebe-5aa773d999de"
      },
      "execution_count": null,
      "outputs": [
        {
          "output_type": "execute_result",
          "data": {
            "text/plain": [
              "array([[0., 0., 0., 0., 0.],\n",
              "       [0., 0., 0., 0., 0.],\n",
              "       [0., 0., 0., 0., 0.],\n",
              "       [0., 0., 0., 0., 0.],\n",
              "       [0., 0., 0., 0., 0.]])"
            ]
          },
          "metadata": {},
          "execution_count": 87
        }
      ]
    },
    {
      "cell_type": "markdown",
      "source": [
        "### ⚙️ **4\\. Product Code Generator**\n",
        "\n",
        "A company wants to assign product codes starting from **1000 to 1990** at equal intervals (10 products per step).\n",
        "\n",
        "🔹 Create an array of all product codes.\n",
        "\n",
        "🔹 Display only the first and last five codes.\n",
        "\n",
        "🔹 Find how many total product codes are generated."
      ],
      "metadata": {
        "id": "uggx85Ci2vYF"
      }
    },
    {
      "cell_type": "code",
      "source": [
        "prod_code=np.arange(1000,1991,10)\n",
        "prod_code"
      ],
      "metadata": {
        "colab": {
          "base_uri": "https://localhost:8080/"
        },
        "id": "vpcR2jVnIoQJ",
        "outputId": "3850c905-ee9f-4855-bbb4-1b720feb7ebf"
      },
      "execution_count": null,
      "outputs": [
        {
          "output_type": "execute_result",
          "data": {
            "text/plain": [
              "array([1000, 1010, 1020, 1030, 1040, 1050, 1060, 1070, 1080, 1090, 1100,\n",
              "       1110, 1120, 1130, 1140, 1150, 1160, 1170, 1180, 1190, 1200, 1210,\n",
              "       1220, 1230, 1240, 1250, 1260, 1270, 1280, 1290, 1300, 1310, 1320,\n",
              "       1330, 1340, 1350, 1360, 1370, 1380, 1390, 1400, 1410, 1420, 1430,\n",
              "       1440, 1450, 1460, 1470, 1480, 1490, 1500, 1510, 1520, 1530, 1540,\n",
              "       1550, 1560, 1570, 1580, 1590, 1600, 1610, 1620, 1630, 1640, 1650,\n",
              "       1660, 1670, 1680, 1690, 1700, 1710, 1720, 1730, 1740, 1750, 1760,\n",
              "       1770, 1780, 1790, 1800, 1810, 1820, 1830, 1840, 1850, 1860, 1870,\n",
              "       1880, 1890, 1900, 1910, 1920, 1930, 1940, 1950, 1960, 1970, 1980,\n",
              "       1990])"
            ]
          },
          "metadata": {},
          "execution_count": 90
        }
      ]
    },
    {
      "cell_type": "code",
      "source": [
        "prod_code.size"
      ],
      "metadata": {
        "colab": {
          "base_uri": "https://localhost:8080/"
        },
        "id": "dxzz2W9xJA0l",
        "outputId": "9dbe5f2a-e709-4612-f959-dbb5834750b5"
      },
      "execution_count": null,
      "outputs": [
        {
          "output_type": "execute_result",
          "data": {
            "text/plain": [
              "100"
            ]
          },
          "metadata": {},
          "execution_count": 91
        }
      ]
    },
    {
      "cell_type": "markdown",
      "source": [
        "### 🧠 **5\\. Custom Matrix Challenge**\n",
        "\n",
        "A scientist needs a **4×4 matrix** where all cells initially contain the value **7**,but she also wants an **identity pattern** (1s on the main diagonal).\n",
        "\n",
        "🔹 Create both arrays.\n",
        "\n",
        "🔹 Replace the diagonal of the first array with the diagonal of the second.\n",
        "\n",
        "🔹 Display the final matrix."
      ],
      "metadata": {
        "id": "wmucofUl2tWn"
      }
    },
    {
      "cell_type": "code",
      "source": [
        "sev_mtx=np.full((4,4),7)"
      ],
      "metadata": {
        "id": "HfYydb6oJJ4O"
      },
      "execution_count": null,
      "outputs": []
    },
    {
      "cell_type": "code",
      "source": [
        "ident=np.identity(4,dtype=int)"
      ],
      "metadata": {
        "id": "nveJm4U2JXsv"
      },
      "execution_count": null,
      "outputs": []
    },
    {
      "cell_type": "code",
      "source": [
        "print(sev_mtx)\n",
        "print(ident)"
      ],
      "metadata": {
        "colab": {
          "base_uri": "https://localhost:8080/"
        },
        "id": "hF57gscFLBT8",
        "outputId": "787fb7c7-606b-48d2-a4cd-dc50362b1340"
      },
      "execution_count": null,
      "outputs": [
        {
          "output_type": "stream",
          "name": "stdout",
          "text": [
            "[[7 7 7 7]\n",
            " [7 7 7 7]\n",
            " [7 7 7 7]\n",
            " [7 7 7 7]]\n",
            "[[1 0 0 0]\n",
            " [0 1 0 0]\n",
            " [0 0 1 0]\n",
            " [0 0 0 1]]\n"
          ]
        }
      ]
    },
    {
      "cell_type": "code",
      "source": [
        "# for i in range(4):\n",
        "#     sev_mtx[i,i]=ident[i,i]\n",
        "# sev_mtx"
      ],
      "metadata": {
        "colab": {
          "base_uri": "https://localhost:8080/"
        },
        "id": "P7LhficLNSVM",
        "outputId": "c117aac9-54da-492f-ed80-e0c02d929827"
      },
      "execution_count": null,
      "outputs": [
        {
          "output_type": "execute_result",
          "data": {
            "text/plain": [
              "array([[1, 7, 7, 7],\n",
              "       [7, 1, 7, 7],\n",
              "       [7, 7, 1, 7],\n",
              "       [7, 7, 7, 1]])"
            ]
          },
          "metadata": {},
          "execution_count": 106
        }
      ]
    },
    {
      "cell_type": "code",
      "source": [
        "# a=np.array([1,2,3])\n",
        "np.fill_diagonal(sev_mtx,[1,2,3])"
      ],
      "metadata": {
        "id": "WqqdubbYNmnO"
      },
      "execution_count": null,
      "outputs": []
    },
    {
      "cell_type": "code",
      "source": [
        "sev_mtx"
      ],
      "metadata": {
        "colab": {
          "base_uri": "https://localhost:8080/"
        },
        "id": "wPxkzxQHOCeT",
        "outputId": "73be61bb-429c-41cb-9551-b28c19149960"
      },
      "execution_count": null,
      "outputs": [
        {
          "output_type": "execute_result",
          "data": {
            "text/plain": [
              "array([[1, 7, 7, 7],\n",
              "       [7, 2, 7, 7],\n",
              "       [7, 7, 3, 7],\n",
              "       [7, 7, 7, 1]])"
            ]
          },
          "metadata": {},
          "execution_count": 122
        }
      ]
    },
    {
      "cell_type": "markdown",
      "source": [
        "### 🎯 **Objective:**\n",
        "\n",
        "You are working with student marks data and need to prepare and organize it using NumPy arrays.Your goal is to create, modify, and analyze the data efficiently without using any external libraries.\n",
        "\n",
        "### 🧠 **Project Description:**\n",
        "\n",
        "A school has recorded the marks of several students in different subjects.You are required to design a NumPy-based solution to store, manage, and process this data.Your tasks involve creating arrays, changing their shapes, combining data, performing modifications, and analyzing patterns — all using NumPy.\n",
        "\n",
        "### 📋 **Project Tasks:**\n",
        "\n",
        "1.  **Data Creation:**Create suitable arrays to represent students, subjects, and their marks.\n",
        "    \n",
        "2.  **Data Exploration:**Explore the properties of these arrays — such as their dimensions, size, and structure.\n",
        "    \n",
        "3.  **Data Transformation:**Perform necessary reshaping and reorganization of the data to suit various operations.\n",
        "    \n",
        "4.  **Data Combination:**Merge or split arrays to simulate adding new students, new subjects, or reorganizing the dataset.\n",
        "    \n",
        "5.  **Data Modification:**Apply operations to update marks, remove data, or identify unique information.\n",
        "    \n",
        "6.  **Data Type Handling:**Demonstrate how the same data can exist in different data types and how changes affect results.\n",
        "    \n",
        "7.  **Copy and View Behavior:**Show the difference between creating a full copy of an array and creating a view of the same data."
      ],
      "metadata": {
        "id": "rLsUO-sI0H1F"
      }
    },
    {
      "cell_type": "markdown",
      "source": [
        "# 📚 Student Marks Management System - NumPy Tutorial\n",
        "\n",
        "[![Python](https://img.shields.io/badge/Python-3.6%2B-blue.svg)](https://www.python.org/)\n",
        "[![NumPy](https://img.shields.io/badge/NumPy-1.19%2B-orange.svg)](https://numpy.org/)\n",
        "[![Jupyter](https://img.shields.io/badge/Jupyter-Notebook-F37626.svg)](https://jupyter.org/)\n",
        "\n",
        "A comprehensive interactive Jupyter notebook demonstrating NumPy fundamentals through a practical student marks management system. This educational project covers array operations, statistical analysis, and data manipulation using real-world scenarios.\n",
        "\n",
        "## 🎯 Project Overview\n",
        "\n",
        "This interactive notebook serves as a hands-on tutorial for learning NumPy by building a student marks management system. It covers essential NumPy concepts including array creation, manipulation, statistical operations, and practical data analysis with live code execution and visualizations.\n",
        "\n",
        "## ✨ Features\n",
        "\n",
        "### Module 1: Array Basics & Properties\n",
        "- Creating NumPy arrays from Python lists\n",
        "- Understanding array properties (shape, size, dtype, ndim)\n",
        "- Comparing NumPy arrays with Python lists\n",
        "\n",
        "### Module 2: Array Creation Functions\n",
        "- **Range-based Creation**: `arange()`, `linspace()`\n",
        "- **Initialized Arrays**: `zeros()`, `ones()`, `empty()`, `full()`\n",
        "- **Special Matrices**: `identity()`, `eye()`\n",
        "\n",
        "### Module 3: Array Manipulation\n",
        "- **Shape Operations**: `reshape()`, `flatten()`, `ravel()`, `transpose()`\n",
        "- **Combining Arrays**: `concatenate()`, `vstack()`, `hstack()`, `hsplit()`\n",
        "- **Modification**: `repeat()`, `flip()`, `delete()`, `unique()`\n",
        "- **Type Conversion**: `astype()`, `copy()`, `view()`\n",
        "\n",
        "### Practical Application\n",
        "- Statistical analysis (mean, sum, max, min, std)\n",
        "- Student performance tracking\n",
        "- Subject-wise analysis\n",
        "- Top performer identification\n",
        "\n",
        "## 🚀 Getting Started\n",
        "\n",
        "### Prerequisites\n",
        "\n",
        "```bash\n",
        "Python 3.6+\n",
        "Jupyter Notebook or JupyterLab\n",
        "NumPy library\n",
        "```\n",
        "\n",
        "### Installation\n",
        "\n",
        "1. Clone the repository:\n",
        "```bash\n",
        "git clone https://github.com/yourusername/numpy-student-marks-management.git\n",
        "cd numpy-student-marks-management\n",
        "```\n",
        "\n",
        "2. Install dependencies:\n",
        "```bash\n",
        "pip install numpy jupyter\n",
        "```\n",
        "\n",
        "### Running the Notebook\n",
        "\n",
        "**Option 1: Jupyter Notebook**\n",
        "```bash\n",
        "jupyter notebook student_marks_system.ipynb\n",
        "```\n",
        "\n",
        "**Option 2: JupyterLab**\n",
        "```bash\n",
        "jupyter lab student_marks_system.ipynb\n",
        "```\n",
        "\n",
        "**Option 3: Google Colab**\n",
        "1. Upload the `.ipynb` file to Google Drive\n",
        "2. Open with Google Colab\n",
        "3. Run all cells (Runtime → Run all)\n",
        "\n",
        "**Option 4: VS Code**\n",
        "1. Install Python and Jupyter extensions\n",
        "2. Open the `.ipynb` file\n",
        "3. Select Python kernel and run cells\n",
        "\n",
        "## 📊 Sample Output\n",
        "\n",
        "The notebook analyzes marks for 6 students across 4 subjects:\n",
        "- **Students**: Alice, Bob, Charlie, Diana, Eve, Frank\n",
        "- **Subjects**: Math, Physics, Chemistry, Biology\n",
        "\n",
        "**Example Analysis:**\n",
        "```\n",
        "Average marks per student: [85.75 70.5  91.25 68.75 87.5  79.  ]\n",
        "Top performing student: Charlie\n",
        "Average score: 91.25\n",
        "\n",
        "Subject with highest average: Math\n",
        "Average score: 80.67\n",
        "```\n",
        "\n",
        "## 📖 Learning Objectives\n",
        "\n",
        "After working through this notebook, you will understand:\n",
        "\n",
        "1. **NumPy Array Fundamentals**\n",
        "   - Array creation and initialization\n",
        "   - Array properties and attributes\n",
        "   - Memory efficiency compared to Python lists\n",
        "\n",
        "2. **Array Operations**\n",
        "   - Shape manipulation and transformations\n",
        "   - Combining and splitting arrays\n",
        "   - Element-wise operations\n",
        "\n",
        "3. **Statistical Analysis**\n",
        "   - Aggregation functions (mean, sum, std)\n",
        "   - Axis-based operations\n",
        "   - Finding maximum/minimum values\n",
        "\n",
        "4. **Practical Applications**\n",
        "   - Real-world data manipulation\n",
        "   - Performance analysis\n",
        "   - Data transformation techniques\n",
        "\n",
        "## 🔧 Key NumPy Functions Demonstrated\n",
        "\n",
        "| Category | Functions |\n",
        "|----------|-----------|\n",
        "| Creation | `array()`, `arange()`, `linspace()`, `zeros()`, `ones()`, `full()`, `empty()` |\n",
        "| Shape | `reshape()`, `flatten()`, `ravel()`, `transpose()` |\n",
        "| Combining | `concatenate()`, `vstack()`, `hstack()`, `hsplit()` |\n",
        "| Statistics | `mean()`, `sum()`, `max()`, `min()`, `std()`, `argmax()` |\n",
        "| Manipulation | `repeat()`, `flip()`, `delete()`, `unique()`, `astype()` |\n",
        "\n",
        "## 📁 Project Structure\n",
        "\n",
        "```\n",
        "numpy-student-marks-management/\n",
        "│\n",
        "├── student_marks_system.ipynb    # Main Jupyter notebook\n",
        "├── README.md                      # Project documentation\n",
        "├── requirements.txt               # Python dependencies\n",
        "└── LICENSE                        # License file\n",
        "```\n",
        "\n",
        "## 💡 Use Cases\n",
        "\n",
        "This notebook structure can be adapted for:\n",
        "- Academic grade management systems\n",
        "- Sports statistics tracking\n",
        "- Sales performance analysis\n",
        "- Scientific data processing\n",
        "- Financial data analysis\n",
        "- Educational tutorials and workshops\n",
        "\n",
        "## 🎓 How to Use This Notebook\n",
        "\n",
        "1. **Sequential Learning**: Run cells in order from top to bottom\n",
        "2. **Interactive Exploration**: Modify values and re-run cells to see different results\n",
        "3. **Experimentation**: Add new cells to test your own NumPy operations\n",
        "4. **Documentation**: Each section is well-documented with explanations\n",
        "5. **Practice**: Try changing student names, marks, or adding more subjects\n",
        "\n",
        "## 🤝 Contributing\n",
        "\n",
        "Contributions are welcome! Feel free to:\n",
        "- Add data visualizations (matplotlib, seaborn)\n",
        "- Include more statistical analyses\n",
        "- Add interactive widgets (ipywidgets)\n",
        "- Improve documentation and examples\n",
        "- Report bugs or issues\n",
        "- Suggest additional NumPy functions to demonstrate\n",
        "\n",
        "### How to Contribute\n",
        "1. Fork the repository\n",
        "2. Create your feature branch (`git checkout -b feature/AmazingFeature`)\n",
        "3. Commit your changes (`git commit -m 'Add some AmazingFeature'`)\n",
        "4. Push to the branch (`git push origin feature/AmazingFeature`)\n",
        "5. Open a Pull Request\n",
        "\n",
        "## 📝 License\n",
        "\n",
        "This project is licensed under the MIT License - see the LICENSE file for details.\n",
        "\n",
        "## 👨‍💻 Author\n",
        "\n",
        "Your Name\n",
        "- GitHub: [@yourusername](https://github.com/yourusername)\n",
        "- LinkedIn: [Your LinkedIn](https://linkedin.com/in/yourprofile)\n",
        "- Email: your.email@example.com\n",
        "\n",
        "## 🙏 Acknowledgments\n",
        "\n",
        "- NumPy documentation and community\n",
        "- Jupyter Project for the amazing notebook interface\n",
        "- Educational resources on array programming\n",
        "- Open source contributors\n",
        "\n",
        "## 📚 Additional Resources\n",
        "\n",
        "- [NumPy Official Documentation](https://numpy.org/doc/)\n",
        "- [Jupyter Notebook Documentation](https://jupyter-notebook.readthedocs.io/)\n",
        "- [NumPy Tutorial for Beginners](https://numpy.org/doc/stable/user/absolute_beginners.html)\n",
        "- [Python Data Science Handbook](https://jakevdp.github.io/PythonDataScienceHandbook/)\n",
        "\n",
        "## 🐛 Troubleshooting\n",
        "\n",
        "**Kernel Issues:**\n",
        "- Restart kernel: `Kernel → Restart & Clear Output`\n",
        "- Reinstall NumPy: `pip install --upgrade numpy`\n",
        "\n",
        "**Import Errors:**\n",
        "- Ensure NumPy is installed: `pip install numpy`\n",
        "- Check Python version compatibility\n",
        "\n",
        "**Cell Not Running:**\n",
        "- Check if another cell is currently executing\n",
        "- Restart the kernel and run again\n",
        "\n",
        "---\n",
        "\n",
        "⭐ **If you find this notebook helpful, please consider giving it a star!**\n",
        "\n",
        "📧 **Questions or suggestions?** Open an issue or reach out!\n",
        "\n",
        "**Happy Learning! 🎓**"
      ],
      "metadata": {
        "id": "VyPEUZHbLfGm"
      }
    }
  ],
  "metadata": {
    "colab": {
      "provenance": []
    },
    "kernelspec": {
      "display_name": "Python 3",
      "name": "python3"
    },
    "language_info": {
      "name": "python"
    }
  },
  "nbformat": 4,
  "nbformat_minor": 0
}